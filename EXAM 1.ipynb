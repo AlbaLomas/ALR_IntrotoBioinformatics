{
 "cells": [
  {
   "cell_type": "markdown",
   "metadata": {},
   "source": [
    "# EXAM WEEK 1"
   ]
  },
  {
   "cell_type": "markdown",
   "metadata": {},
   "source": [
    "**PROBLEM 1**"
   ]
  },
  {
   "cell_type": "markdown",
   "metadata": {},
   "source": [
    "- Copy the Locus_Germplasm_Phenotype_20130122.txt file into your copy of the Exams Git\n",
    "- Create a new Jupyter Notebook in your Exams folder called \"Exam_1_Answers\" using the 'bash' kernel\n",
    "- Do the rest of this exam inside of that the \"Exam_1_Answers\" Notebook"
   ]
  },
  {
   "cell_type": "markdown",
   "metadata": {},
   "source": [
    "**PROBLEM 2**"
   ]
  },
  {
   "cell_type": "markdown",
   "metadata": {},
   "source": [
    "- Create a directory listing command that shows:\n",
    "\n",
    "    * the ownership of the file\n",
    "    * it's file-size, in Megabytes (i.e. human readable)\n",
    "    \n",
    "     ***ls -lth***\n",
    "        \n",
    "\n",
    "- Describe the permissions on that file (read/write/execute) for users, groups, and \"anyone\"\n",
    "\n",
    "     ***Users' permissions are for reading and writing.***  \n",
    "     ***Groups' permissions are for reading and writing.***  \n",
    "     ***Anyone' permissions are only for reading.***\n"
   ]
  },
  {
   "cell_type": "markdown",
   "metadata": {},
   "source": [
    "**PROBLEM 3**"
   ]
  },
  {
   "cell_type": "markdown",
   "metadata": {},
   "source": [
    "- Create a command that outputs only the \"header\" line of Locus_Germplasm_Phenotype_20130122.txt\n",
    "\n",
    "   ***head -n 1 Locus_Germplasm_Phenotype_20130122.txt***"
   ]
  },
  {
   "cell_type": "markdown",
   "metadata": {},
   "source": [
    "**PROBLEM 4**"
   ]
  },
  {
   "cell_type": "markdown",
   "metadata": {},
   "source": [
    "- Create a command that outputs the total number of lines in Locus_Germplasm_Phenotype_20130122.txt\n",
    "\n",
    "  ***cat Locus_Germplasm_Phenotype_20130122 | wc -l\n",
    "7216***\n",
    "\n"
   ]
  },
  {
   "cell_type": "markdown",
   "metadata": {},
   "source": [
    "**PROBLEM 5**"
   ]
  },
  {
   "cell_type": "markdown",
   "metadata": {},
   "source": [
    "- Create a command that writes ONLY the data lines (i.e. excludes the header!) to a new file called \"Data_Only.csv\"\n",
    "\n",
    "   ***tail -n +2 Locus_Germplasm_Phenotype_20130122 > Data_Only4.csv***  \n",
    "   \n",
    "   \n",
    "- prove that your output file has the expected number of lines  \n",
    "\n",
    "  ***It is remarkable that I have named the resulting file as Data_Only4.csv because I have been trying different commands to do the task***   \n",
    "\n",
    "  ***The number of expected lines in the file Data_Only4.csv is 7212 as the number of lines in Locus_Germplasm_Phenotype_20130122 is 7213, so the fastest way to prove it is by doing a \"wc -l\" command to the file*** \n",
    "  \n",
    "osboxes@osboxes:~/pruebaexam$ cat Data_Only4.csv | wc -l\n",
    "\n",
    "7212\n",
    "\n",
    "osboxes@osboxes:~/pruebaexam$ cat Locus_Germplasm_Phenotype_20130122 | wc -l\n",
    "\n",
    "7213\n",
    "\n"
   ]
  },
  {
   "cell_type": "markdown",
   "metadata": {},
   "source": [
    "**PROBLEM 6**"
   ]
  },
  {
   "cell_type": "markdown",
   "metadata": {},
   "source": [
    "- Create a command that shows all of the lines that have a phenotype including the word \"root\"\n",
    "\n",
    "   ***grep 'root' Locus_Germplasm_Phenotype_20130122***"
   ]
  },
  {
   "cell_type": "markdown",
   "metadata": {},
   "source": [
    "**PROBLEM 7**"
   ]
  },
  {
   "cell_type": "markdown",
   "metadata": {},
   "source": [
    "- Create a command that writes the AGI Locus Code for every line that has a phenotype including the word \"root\" to a file called: Root-associated-Loci.txt  \n",
    "\n",
    "  ***In order to write only those AGI Locus Code for lines which have a phenotype including the world root I used this command: grep 'root' Locus_Germplasm_Phenotype_20130122 | grep -E -io 'AT[1-5]G[0-9]{5}' >  Root-associated-Loci.txt***\n",
    "\n",
    "\n",
    "  ***It is also possible to use the command 'cut' as we only need the AGI Locus Code (first tab-delimited field): cut -f1***"
   ]
  },
  {
   "cell_type": "markdown",
   "metadata": {},
   "source": [
    "**PROBLEM 8**"
   ]
  },
  {
   "cell_type": "markdown",
   "metadata": {},
   "source": [
    "- Create a command that writes the PubMed ID for every line that has a phenotype including the word \"root\" to a file called: Root-associated-Publications.txt  \n",
    "\n",
    "  ***grep 'root' Locus_Germplasm_Phenotype_20130122 | grep -oi -E \"[0-9]{8}\">Root-associated-Publications.txt***\n"
   ]
  },
  {
   "cell_type": "markdown",
   "metadata": {},
   "source": [
    "**PROBLEM 9**"
   ]
  },
  {
   "cell_type": "markdown",
   "metadata": {},
   "source": [
    "- Control experiment: You would hypothesize that genes associated with roots should be found on all chromosomes. Find a way (one or more commands) to test this hypothesis. In this dataset, is the hypothesis true?   \n",
    "   ***The third character of the AGI Locus Code is the chromosome number (between 1 and 5) so if genes associated with roots are on all chromosomes it will appear AGI Locus Codes related with all chromosomes in the Root-associated-Loci.txt. It can be tested looking at the third position for each number (from 1 to 5) in this file (Root-associated-Loci.txt). I have done done an bash script named bash.sh which tests this by searching AGI Locus code for all chromosomes, creates a file for each one and counts the lines so it is possible to know if there are genes associated with roots in all chromosomes quickly.***\n",
    "  \n",
    "#!/bin/bash   \n",
    "for i in 1 2 3 4 5;  \n",
    "do  \n",
    "    grep -E -i \"AT$i\" Root-associated-Loci.txt > chr$i.txt|wc -l chr$i.txt  \n",
    "done  \n",
    " \n",
    " ***By running this bash script you can test that the hypothesis is true.*** \n",
    "\n",
    "***I have push bash.sh on the repository.*** \n"
   ]
  },
  {
   "cell_type": "markdown",
   "metadata": {},
   "source": [
    "**PROBLEM 10**"
   ]
  },
  {
   "cell_type": "markdown",
   "metadata": {},
   "source": [
    "- If your control experiment shows genes on every chromosome, then you can skip this question! (you answered Problem 9 correctly!)  \n",
    "- If your control experiment shows genes only on one or two chromosomes, then you have to explain why... what could the problem be? (I told you specifically to be careful about this problem!)\n"
   ]
  },
  {
   "cell_type": "markdown",
   "metadata": {},
   "source": [
    "**PROBLEM 11**"
   ]
  },
  {
   "cell_type": "markdown",
   "metadata": {},
   "source": [
    "- 'git commit' and 'git push' your answers to your GitHub, then give me your GitHub username before you leave the class. I will clone your repositories and grade your answers."
   ]
  },
  {
   "cell_type": "code",
   "execution_count": null,
   "metadata": {},
   "outputs": [],
   "source": []
  }
 ],
 "metadata": {
  "kernelspec": {
   "display_name": "Bash",
   "language": "bash",
   "name": "bash"
  },
  "language_info": {
   "codemirror_mode": "shell",
   "file_extension": ".sh",
   "mimetype": "text/x-sh",
   "name": "bash"
  }
 },
 "nbformat": 4,
 "nbformat_minor": 2
}
