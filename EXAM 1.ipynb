{
 "cells": [
  {
   "cell_type": "markdown",
   "metadata": {},
   "source": [
    "# EXAM WEEK 1"
   ]
  },
  {
   "cell_type": "markdown",
   "metadata": {},
   "source": [
    "**PROBLEM 1**"
   ]
  },
  {
   "cell_type": "markdown",
   "metadata": {},
   "source": [
    "- Copy the Locus_Germplasm_Phenotype_20130122.txt file into your copy of the Exams Git\n",
    "- Create a new Jupyter Notebook in your Exams folder called \"Exam_1_Answers\" using the 'bash' kernel\n",
    "- Do the rest of this exam inside of that the \"Exam_1_Answers\" Notebook"
   ]
  },
  {
   "cell_type": "markdown",
   "metadata": {},
   "source": [
    "**PROBLEM 2**"
   ]
  },
  {
   "cell_type": "markdown",
   "metadata": {},
   "source": [
    "- Create a directory listing command that shows:\n",
    "\n",
    "    * the ownership of the file\n",
    "    * it's file-size, in Megabytes (i.e. human readable)\n",
    "    \n",
    "     ***ls -lth***\n",
    "        \n",
    "\n",
    "- Describe the permissions on that file (read/write/execute) for users, groups, and \"anyone\"\n",
    "\n",
    "     ***Users' permissions are for reading and writing.***  \n",
    "     ***Groups' permissions are for reading and writing.***  \n",
    "     ***Anyone' permissions are only for reading.***\n"
   ]
  },
  {
   "cell_type": "markdown",
   "metadata": {},
   "source": [
    "**PROBLEM 3**"
   ]
  },
  {
   "cell_type": "markdown",
   "metadata": {},
   "source": [
    "- Create a command that outputs only the \"header\" line of Locus_Germplasm_Phenotype_20130122.txt\n",
    "\n",
    "   ***head -n 1 Locus_Germplasm_Phenotype_20130122.txt***"
   ]
  },
  {
   "cell_type": "markdown",
   "metadata": {},
   "source": [
    "**PROBLEM 4**"
   ]
  },
  {
   "cell_type": "markdown",
   "metadata": {},
   "source": [
    "- Create a command that outputs the total number of lines in Locus_Germplasm_Phenotype_20130122.txt\n",
    "\n",
    "  ***cat Locus_Germplasm_Phenotype_20130122 | wc -l\n",
    "7216***\n",
    "\n"
   ]
  },
  {
   "cell_type": "markdown",
   "metadata": {},
   "source": [
    "**PROBLEM 5**"
   ]
  },
  {
   "cell_type": "markdown",
   "metadata": {},
   "source": [
    "- Create a command that writes ONLY the data lines (i.e. excludes the header!) to a new file called \"Data_Only.csv\"\n",
    "\n",
    "   ***tail -n +2 Locus_Germplasm_Phenotype_20130122 > Data_Only4.csv***  \n",
    "   \n",
    "   \n",
    "- prove that your output file has the expected number of lines  \n",
    "\n",
    "  ***It is remarkable that I have named the resulting file as Data_Only4.csv because I have been trying different commands to do the task***   \n",
    "\n",
    "  ***The number of expected lines in the file Data_Only4.csv is 7212 as the number of lines in Locus_Germplasm_Phenotype_20130122 is 7213, so the fastest way to prove it is by doing a \"wc -l\" command to the file*** \n",
    "  \n",
    "osboxes@osboxes:~/pruebaexam$ cat Data_Only4.csv | wc -l\n",
    "\n",
    "7212\n",
    "\n",
    "osboxes@osboxes:~/pruebaexam$ cat Locus_Germplasm_Phenotype_20130122 | wc -l\n",
    "\n",
    "7213\n",
    "\n"
   ]
  },
  {
   "cell_type": "markdown",
   "metadata": {},
   "source": [
    "**PROBLEM 6**"
   ]
  },
  {
   "cell_type": "markdown",
   "metadata": {},
   "source": [
    "- Create a command that shows all of the lines that have a phenotype including the word \"root\"\n",
    "\n",
    "   ***grep 'root' Locus_Germplasm_Phenotype_20130122***"
   ]
  },
  {
   "cell_type": "markdown",
   "metadata": {},
   "source": [
    "**PROBLEM 7**"
   ]
  },
  {
   "cell_type": "markdown",
   "metadata": {},
   "source": [
    "- Create a command that writes the AGI Locus Code for every line that has a phenotype including the word \"root\" to a file called: Root-associated-Loci.txt  \n",
    "\n",
    "  ***In order to write only those lines which has a phenotype including the world root I used this command: grep 'root' Locus_Germplasm_Phenotype_20130122 | grep -E -i 'AT[1-5]G[0-9]{5}' Locus_Germplasm_Phenotype_20130122 >  Root-associated-Loci.txt***\n",
    "\n",
    "  ***In case that we only need the AGI Locus Code (first tab-delimited field) it is possible to use the command 'cut' : cut -f1 Root-associated-Loci.txt > Rootassociated-onlyLoci.txt***"
   ]
  },
  {
   "cell_type": "markdown",
   "metadata": {},
   "source": [
    "**PROBLEM 8**"
   ]
  },
  {
   "cell_type": "markdown",
   "metadata": {},
   "source": [
    "- Create a command that writes the PubMed ID for every line that has a phenotype including the word \"root\" to a file called: Root-associated-Publications.txt"
   ]
  },
  {
   "cell_type": "code",
   "execution_count": null,
   "metadata": {},
   "outputs": [],
   "source": []
  }
 ],
 "metadata": {
  "kernelspec": {
   "display_name": "Bash",
   "language": "bash",
   "name": "bash"
  },
  "language_info": {
   "codemirror_mode": "shell",
   "file_extension": ".sh",
   "mimetype": "text/x-sh",
   "name": "bash"
  }
 },
 "nbformat": 4,
 "nbformat_minor": 2
}
